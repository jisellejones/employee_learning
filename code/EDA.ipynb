{
 "cells": [
  {
   "cell_type": "code",
   "execution_count": 1,
   "id": "176f85f6",
   "metadata": {},
   "outputs": [],
   "source": [
    "# Initial Import of Dependencies\n",
    "from config import db_key\n",
    "import pandas as pd\n",
    "from pathlib import Path\n",
    "import matplotlib.pyplot as plt\n",
    "from sklearn.linear_model import LinearRegression\n",
    "from sklearn.preprocessing import LabelEncoder\n",
    "import psycopg2 as pg\n"
   ]
  },
  {
   "cell_type": "code",
   "execution_count": 7,
   "id": "df47f2e7",
   "metadata": {},
   "outputs": [],
   "source": [
    "#connect to database\n",
    "engine = pg.connect(db_key)\n",
    "results_df = pd.read_sql('select * from learning_survey_results', con=engine)"
   ]
  },
  {
   "cell_type": "code",
   "execution_count": 5,
   "id": "a4a28668",
   "metadata": {},
   "outputs": [
    {
     "data": {
      "text/plain": [
       "program_id                            int64\n",
       "program_name                         object\n",
       "employee_first_name                  object\n",
       "employee_last_name                   object\n",
       "business_unit_corporate_function     object\n",
       "location                             object\n",
       "career_grade                         object\n",
       "talent_review_status                 object\n",
       "number_of_years_with_business        object\n",
       "gender                               object\n",
       "ethnicity                            object\n",
       "nps_score                           float64\n",
       "nps_comments                         object\n",
       "dtype: object"
      ]
     },
     "execution_count": 5,
     "metadata": {},
     "output_type": "execute_result"
    }
   ],
   "source": [
    "# checking data types\n",
    "results_df.dtypes"
   ]
  },
  {
   "cell_type": "code",
   "execution_count": 28,
   "id": "a22540b6",
   "metadata": {},
   "outputs": [
    {
     "data": {
      "text/html": [
       "<div>\n",
       "<style scoped>\n",
       "    .dataframe tbody tr th:only-of-type {\n",
       "        vertical-align: middle;\n",
       "    }\n",
       "\n",
       "    .dataframe tbody tr th {\n",
       "        vertical-align: top;\n",
       "    }\n",
       "\n",
       "    .dataframe thead th {\n",
       "        text-align: right;\n",
       "    }\n",
       "</style>\n",
       "<table border=\"1\" class=\"dataframe\">\n",
       "  <thead>\n",
       "    <tr style=\"text-align: right;\">\n",
       "      <th></th>\n",
       "      <th>program_id</th>\n",
       "      <th>nps_score</th>\n",
       "    </tr>\n",
       "  </thead>\n",
       "  <tbody>\n",
       "    <tr>\n",
       "      <th>count</th>\n",
       "      <td>1290.000000</td>\n",
       "      <td>1289.000000</td>\n",
       "    </tr>\n",
       "    <tr>\n",
       "      <th>mean</th>\n",
       "      <td>787.279070</td>\n",
       "      <td>4.627618</td>\n",
       "    </tr>\n",
       "    <tr>\n",
       "      <th>std</th>\n",
       "      <td>185.266335</td>\n",
       "      <td>3.018995</td>\n",
       "    </tr>\n",
       "    <tr>\n",
       "      <th>min</th>\n",
       "      <td>121.000000</td>\n",
       "      <td>0.000000</td>\n",
       "    </tr>\n",
       "    <tr>\n",
       "      <th>25%</th>\n",
       "      <td>621.000000</td>\n",
       "      <td>2.000000</td>\n",
       "    </tr>\n",
       "    <tr>\n",
       "      <th>50%</th>\n",
       "      <td>921.000000</td>\n",
       "      <td>4.000000</td>\n",
       "    </tr>\n",
       "    <tr>\n",
       "      <th>75%</th>\n",
       "      <td>921.000000</td>\n",
       "      <td>7.000000</td>\n",
       "    </tr>\n",
       "    <tr>\n",
       "      <th>max</th>\n",
       "      <td>921.000000</td>\n",
       "      <td>10.000000</td>\n",
       "    </tr>\n",
       "  </tbody>\n",
       "</table>\n",
       "</div>"
      ],
      "text/plain": [
       "        program_id    nps_score\n",
       "count  1290.000000  1289.000000\n",
       "mean    787.279070     4.627618\n",
       "std     185.266335     3.018995\n",
       "min     121.000000     0.000000\n",
       "25%     621.000000     2.000000\n",
       "50%     921.000000     4.000000\n",
       "75%     921.000000     7.000000\n",
       "max     921.000000    10.000000"
      ]
     },
     "execution_count": 28,
     "metadata": {},
     "output_type": "execute_result"
    }
   ],
   "source": [
    "# checking overall numerical stats\n",
    "results_df.describe()"
   ]
  },
  {
   "cell_type": "code",
   "execution_count": 30,
   "id": "121ccc70",
   "metadata": {},
   "outputs": [
    {
     "data": {
      "text/plain": [
       "C2    346\n",
       "E     330\n",
       "D     322\n",
       "F     139\n",
       "C1    136\n",
       "G      12\n",
       "H       5\n",
       "Name: career_grade, dtype: int64"
      ]
     },
     "execution_count": 30,
     "metadata": {},
     "output_type": "execute_result"
    }
   ],
   "source": [
    "# looking at number of participants in different career grades\n",
    "results_df.career_grade.value_counts(dropna=False)"
   ]
  },
  {
   "cell_type": "code",
   "execution_count": 27,
   "id": "8ba03f68",
   "metadata": {},
   "outputs": [
    {
     "data": {
      "text/plain": [
       "Ready in 1 year           300\n",
       "Ready now                 295\n",
       "Aspire to move            288\n",
       "Performing to standard    253\n",
       "Coach                     154\n",
       "Name: talent_review_status, dtype: int64"
      ]
     },
     "execution_count": 27,
     "metadata": {},
     "output_type": "execute_result"
    }
   ],
   "source": [
    "# looking at number of participants in all programs and how they determine their \"talent review status\"\n",
    "results_df.talent_review_status.value_counts(dropna=False)"
   ]
  },
  {
   "cell_type": "code",
   "execution_count": null,
   "id": "9b8f01fa",
   "metadata": {},
   "outputs": [],
   "source": [
    "# \n",
    "results_df.talent_review_status.value_counts(dropna=False)"
   ]
  },
  {
   "cell_type": "code",
   "execution_count": 11,
   "id": "ddccb494",
   "metadata": {},
   "outputs": [
    {
     "data": {
      "text/html": [
       "<div>\n",
       "<style scoped>\n",
       "    .dataframe tbody tr th:only-of-type {\n",
       "        vertical-align: middle;\n",
       "    }\n",
       "\n",
       "    .dataframe tbody tr th {\n",
       "        vertical-align: top;\n",
       "    }\n",
       "\n",
       "    .dataframe thead th {\n",
       "        text-align: right;\n",
       "    }\n",
       "</style>\n",
       "<table border=\"1\" class=\"dataframe\">\n",
       "  <thead>\n",
       "    <tr style=\"text-align: right;\">\n",
       "      <th></th>\n",
       "      <th>program_id</th>\n",
       "      <th>program_name</th>\n",
       "      <th>employee_first_name</th>\n",
       "      <th>employee_last_name</th>\n",
       "      <th>business_unit_corporate_function</th>\n",
       "      <th>location</th>\n",
       "      <th>career_grade</th>\n",
       "      <th>talent_review_status</th>\n",
       "      <th>number_of_years_with_business</th>\n",
       "      <th>gender</th>\n",
       "      <th>ethnicity</th>\n",
       "      <th>nps_score</th>\n",
       "      <th>nps_comments</th>\n",
       "    </tr>\n",
       "  </thead>\n",
       "  <tbody>\n",
       "    <tr>\n",
       "      <th>0</th>\n",
       "      <td>621</td>\n",
       "      <td>iLead</td>\n",
       "      <td>Rory</td>\n",
       "      <td>Newall</td>\n",
       "      <td>Assessment &amp; Qualifications</td>\n",
       "      <td>Middle East</td>\n",
       "      <td>F</td>\n",
       "      <td>Ready in 1 year</td>\n",
       "      <td>6 - 10 years</td>\n",
       "      <td>Male</td>\n",
       "      <td>White</td>\n",
       "      <td>1.0</td>\n",
       "      <td>None</td>\n",
       "    </tr>\n",
       "    <tr>\n",
       "      <th>1</th>\n",
       "      <td>621</td>\n",
       "      <td>iLead</td>\n",
       "      <td>Oliver</td>\n",
       "      <td>Paige</td>\n",
       "      <td>Assessment &amp; Qualifications</td>\n",
       "      <td>North America, United States</td>\n",
       "      <td>D</td>\n",
       "      <td>Performing to standard</td>\n",
       "      <td>Less than 2 years</td>\n",
       "      <td>Male</td>\n",
       "      <td>White</td>\n",
       "      <td>4.0</td>\n",
       "      <td>None</td>\n",
       "    </tr>\n",
       "    <tr>\n",
       "      <th>2</th>\n",
       "      <td>621</td>\n",
       "      <td>iLead</td>\n",
       "      <td>Patrick</td>\n",
       "      <td>Robotham</td>\n",
       "      <td>Assessment &amp; Qualifications</td>\n",
       "      <td>North America, Canada</td>\n",
       "      <td>E</td>\n",
       "      <td>Ready in 1 year</td>\n",
       "      <td>11 + years</td>\n",
       "      <td>Male</td>\n",
       "      <td>White</td>\n",
       "      <td>10.0</td>\n",
       "      <td>None</td>\n",
       "    </tr>\n",
       "    <tr>\n",
       "      <th>3</th>\n",
       "      <td>621</td>\n",
       "      <td>iLead</td>\n",
       "      <td>Torrie</td>\n",
       "      <td>Lyall</td>\n",
       "      <td>Assessment &amp; Qualifications</td>\n",
       "      <td>North America, United States</td>\n",
       "      <td>D</td>\n",
       "      <td>Ready now</td>\n",
       "      <td>Less than 2 years</td>\n",
       "      <td>Female</td>\n",
       "      <td>White</td>\n",
       "      <td>2.0</td>\n",
       "      <td>None</td>\n",
       "    </tr>\n",
       "    <tr>\n",
       "      <th>4</th>\n",
       "      <td>621</td>\n",
       "      <td>iLead</td>\n",
       "      <td>Julissa</td>\n",
       "      <td>Travill</td>\n",
       "      <td>Strategy</td>\n",
       "      <td>United Kingdom</td>\n",
       "      <td>E</td>\n",
       "      <td>Ready in 1 year</td>\n",
       "      <td>Less than 2 years</td>\n",
       "      <td>Male</td>\n",
       "      <td>White</td>\n",
       "      <td>3.0</td>\n",
       "      <td>None</td>\n",
       "    </tr>\n",
       "  </tbody>\n",
       "</table>\n",
       "</div>"
      ],
      "text/plain": [
       "   program_id program_name employee_first_name employee_last_name  \\\n",
       "0         621        iLead                Rory             Newall   \n",
       "1         621        iLead              Oliver              Paige   \n",
       "2         621        iLead             Patrick           Robotham   \n",
       "3         621        iLead              Torrie              Lyall   \n",
       "4         621        iLead             Julissa            Travill   \n",
       "\n",
       "  business_unit_corporate_function                      location career_grade  \\\n",
       "0      Assessment & Qualifications                   Middle East            F   \n",
       "1      Assessment & Qualifications  North America, United States            D   \n",
       "2      Assessment & Qualifications         North America, Canada            E   \n",
       "3      Assessment & Qualifications  North America, United States            D   \n",
       "4                         Strategy                United Kingdom            E   \n",
       "\n",
       "     talent_review_status number_of_years_with_business  gender ethnicity  \\\n",
       "0         Ready in 1 year                  6 - 10 years    Male     White   \n",
       "1  Performing to standard             Less than 2 years    Male     White   \n",
       "2         Ready in 1 year                    11 + years    Male     White   \n",
       "3               Ready now             Less than 2 years  Female     White   \n",
       "4         Ready in 1 year             Less than 2 years    Male     White   \n",
       "\n",
       "   nps_score nps_comments  \n",
       "0        1.0         None  \n",
       "1        4.0         None  \n",
       "2       10.0         None  \n",
       "3        2.0         None  \n",
       "4        3.0         None  "
      ]
     },
     "execution_count": 11,
     "metadata": {},
     "output_type": "execute_result"
    }
   ],
   "source": [
    "results_df.head()\n"
   ]
  },
  {
   "cell_type": "code",
   "execution_count": null,
   "id": "caebd8e9",
   "metadata": {},
   "outputs": [],
   "source": []
  }
 ],
 "metadata": {
  "kernelspec": {
   "display_name": "mlenv",
   "language": "python",
   "name": "mlenv"
  },
  "language_info": {
   "codemirror_mode": {
    "name": "ipython",
    "version": 3
   },
   "file_extension": ".py",
   "mimetype": "text/x-python",
   "name": "python",
   "nbconvert_exporter": "python",
   "pygments_lexer": "ipython3",
   "version": "3.7.10"
  }
 },
 "nbformat": 4,
 "nbformat_minor": 5
}
