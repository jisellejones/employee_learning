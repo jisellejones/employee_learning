{
 "cells": [
  {
   "cell_type": "code",
   "execution_count": null,
   "id": "176f85f6",
   "metadata": {},
   "outputs": [],
   "source": [
    "# Initial Import of Dependencies\n",
    "from config import db_key\n",
    "import pandas as pd\n",
    "from pathlib import Path\n",
    "import matplotlib.pyplot as plt\n",
    "from sklearn.linear_model import LinearRegression\n",
    "from sklearn.preprocessing import LabelEncoder\n",
    "import psycopg2 as pg\n",
    "import seaborn as sns\n",
    "import matplotlib.pyplot as plt\n"
   ]
  },
  {
   "cell_type": "code",
   "execution_count": 2,
   "id": "df47f2e7",
   "metadata": {},
   "outputs": [],
   "source": [
    "#connect to database\n",
    "engine = pg.connect(db_key)\n",
    "results_df = pd.read_sql('select * from learning_survey_results', con=engine)"
   ]
  },
  {
   "cell_type": "code",
   "execution_count": 3,
   "id": "a5b2b25c",
   "metadata": {},
   "outputs": [
    {
     "data": {
      "text/html": [
       "<div>\n",
       "<style scoped>\n",
       "    .dataframe tbody tr th:only-of-type {\n",
       "        vertical-align: middle;\n",
       "    }\n",
       "\n",
       "    .dataframe tbody tr th {\n",
       "        vertical-align: top;\n",
       "    }\n",
       "\n",
       "    .dataframe thead th {\n",
       "        text-align: right;\n",
       "    }\n",
       "</style>\n",
       "<table border=\"1\" class=\"dataframe\">\n",
       "  <thead>\n",
       "    <tr style=\"text-align: right;\">\n",
       "      <th></th>\n",
       "      <th>program_id</th>\n",
       "      <th>program_name</th>\n",
       "      <th>employee_first_name</th>\n",
       "      <th>employee_last_name</th>\n",
       "      <th>business_unit_corporate_function</th>\n",
       "      <th>location</th>\n",
       "      <th>career_grade</th>\n",
       "      <th>talent_review_status</th>\n",
       "      <th>number_of_years_with_business</th>\n",
       "      <th>gender</th>\n",
       "      <th>ethnicity</th>\n",
       "      <th>nps_score</th>\n",
       "      <th>nps_comments</th>\n",
       "    </tr>\n",
       "  </thead>\n",
       "  <tbody>\n",
       "    <tr>\n",
       "      <th>0</th>\n",
       "      <td>621</td>\n",
       "      <td>iLead</td>\n",
       "      <td>Rory</td>\n",
       "      <td>Newall</td>\n",
       "      <td>Assessment &amp; Qualifications</td>\n",
       "      <td>Middle East</td>\n",
       "      <td>F</td>\n",
       "      <td>Ready in 1 year</td>\n",
       "      <td>6 - 10 years</td>\n",
       "      <td>Male</td>\n",
       "      <td>White</td>\n",
       "      <td>1.0</td>\n",
       "      <td>None</td>\n",
       "    </tr>\n",
       "    <tr>\n",
       "      <th>1</th>\n",
       "      <td>621</td>\n",
       "      <td>iLead</td>\n",
       "      <td>Oliver</td>\n",
       "      <td>Paige</td>\n",
       "      <td>Assessment &amp; Qualifications</td>\n",
       "      <td>North America, United States</td>\n",
       "      <td>D</td>\n",
       "      <td>Performing to standard</td>\n",
       "      <td>Less than 2 years</td>\n",
       "      <td>Male</td>\n",
       "      <td>White</td>\n",
       "      <td>4.0</td>\n",
       "      <td>None</td>\n",
       "    </tr>\n",
       "    <tr>\n",
       "      <th>2</th>\n",
       "      <td>621</td>\n",
       "      <td>iLead</td>\n",
       "      <td>Patrick</td>\n",
       "      <td>Robotham</td>\n",
       "      <td>Assessment &amp; Qualifications</td>\n",
       "      <td>North America, Canada</td>\n",
       "      <td>E</td>\n",
       "      <td>Ready in 1 year</td>\n",
       "      <td>11 + years</td>\n",
       "      <td>Male</td>\n",
       "      <td>White</td>\n",
       "      <td>10.0</td>\n",
       "      <td>None</td>\n",
       "    </tr>\n",
       "    <tr>\n",
       "      <th>3</th>\n",
       "      <td>621</td>\n",
       "      <td>iLead</td>\n",
       "      <td>Torrie</td>\n",
       "      <td>Lyall</td>\n",
       "      <td>Assessment &amp; Qualifications</td>\n",
       "      <td>North America, United States</td>\n",
       "      <td>D</td>\n",
       "      <td>Ready now</td>\n",
       "      <td>Less than 2 years</td>\n",
       "      <td>Female</td>\n",
       "      <td>White</td>\n",
       "      <td>2.0</td>\n",
       "      <td>None</td>\n",
       "    </tr>\n",
       "    <tr>\n",
       "      <th>4</th>\n",
       "      <td>621</td>\n",
       "      <td>iLead</td>\n",
       "      <td>Julissa</td>\n",
       "      <td>Travill</td>\n",
       "      <td>Strategy</td>\n",
       "      <td>United Kingdom</td>\n",
       "      <td>E</td>\n",
       "      <td>Ready in 1 year</td>\n",
       "      <td>Less than 2 years</td>\n",
       "      <td>Male</td>\n",
       "      <td>White</td>\n",
       "      <td>3.0</td>\n",
       "      <td>None</td>\n",
       "    </tr>\n",
       "  </tbody>\n",
       "</table>\n",
       "</div>"
      ],
      "text/plain": [
       "   program_id program_name employee_first_name employee_last_name  \\\n",
       "0         621        iLead                Rory             Newall   \n",
       "1         621        iLead              Oliver              Paige   \n",
       "2         621        iLead             Patrick           Robotham   \n",
       "3         621        iLead              Torrie              Lyall   \n",
       "4         621        iLead             Julissa            Travill   \n",
       "\n",
       "  business_unit_corporate_function                      location career_grade  \\\n",
       "0      Assessment & Qualifications                   Middle East            F   \n",
       "1      Assessment & Qualifications  North America, United States            D   \n",
       "2      Assessment & Qualifications         North America, Canada            E   \n",
       "3      Assessment & Qualifications  North America, United States            D   \n",
       "4                         Strategy                United Kingdom            E   \n",
       "\n",
       "     talent_review_status number_of_years_with_business  gender ethnicity  \\\n",
       "0         Ready in 1 year                  6 - 10 years    Male     White   \n",
       "1  Performing to standard             Less than 2 years    Male     White   \n",
       "2         Ready in 1 year                    11 + years    Male     White   \n",
       "3               Ready now             Less than 2 years  Female     White   \n",
       "4         Ready in 1 year             Less than 2 years    Male     White   \n",
       "\n",
       "   nps_score nps_comments  \n",
       "0        1.0         None  \n",
       "1        4.0         None  \n",
       "2       10.0         None  \n",
       "3        2.0         None  \n",
       "4        3.0         None  "
      ]
     },
     "execution_count": 3,
     "metadata": {},
     "output_type": "execute_result"
    }
   ],
   "source": [
    "results_df.head()"
   ]
  },
  {
   "cell_type": "code",
   "execution_count": 4,
   "id": "a4a28668",
   "metadata": {},
   "outputs": [
    {
     "data": {
      "text/plain": [
       "program_id                            int64\n",
       "program_name                         object\n",
       "employee_first_name                  object\n",
       "employee_last_name                   object\n",
       "business_unit_corporate_function     object\n",
       "location                             object\n",
       "career_grade                         object\n",
       "talent_review_status                 object\n",
       "number_of_years_with_business        object\n",
       "gender                               object\n",
       "ethnicity                            object\n",
       "nps_score                           float64\n",
       "nps_comments                         object\n",
       "dtype: object"
      ]
     },
     "execution_count": 4,
     "metadata": {},
     "output_type": "execute_result"
    }
   ],
   "source": [
    "# checking data types\n",
    "results_df.dtypes"
   ]
  },
  {
   "cell_type": "code",
   "execution_count": 5,
   "id": "a22540b6",
   "metadata": {},
   "outputs": [
    {
     "data": {
      "text/html": [
       "<div>\n",
       "<style scoped>\n",
       "    .dataframe tbody tr th:only-of-type {\n",
       "        vertical-align: middle;\n",
       "    }\n",
       "\n",
       "    .dataframe tbody tr th {\n",
       "        vertical-align: top;\n",
       "    }\n",
       "\n",
       "    .dataframe thead th {\n",
       "        text-align: right;\n",
       "    }\n",
       "</style>\n",
       "<table border=\"1\" class=\"dataframe\">\n",
       "  <thead>\n",
       "    <tr style=\"text-align: right;\">\n",
       "      <th></th>\n",
       "      <th>program_id</th>\n",
       "      <th>nps_score</th>\n",
       "    </tr>\n",
       "  </thead>\n",
       "  <tbody>\n",
       "    <tr>\n",
       "      <th>count</th>\n",
       "      <td>1290.000000</td>\n",
       "      <td>1289.000000</td>\n",
       "    </tr>\n",
       "    <tr>\n",
       "      <th>mean</th>\n",
       "      <td>787.279070</td>\n",
       "      <td>4.627618</td>\n",
       "    </tr>\n",
       "    <tr>\n",
       "      <th>std</th>\n",
       "      <td>185.266335</td>\n",
       "      <td>3.018995</td>\n",
       "    </tr>\n",
       "    <tr>\n",
       "      <th>min</th>\n",
       "      <td>121.000000</td>\n",
       "      <td>0.000000</td>\n",
       "    </tr>\n",
       "    <tr>\n",
       "      <th>25%</th>\n",
       "      <td>621.000000</td>\n",
       "      <td>2.000000</td>\n",
       "    </tr>\n",
       "    <tr>\n",
       "      <th>50%</th>\n",
       "      <td>921.000000</td>\n",
       "      <td>4.000000</td>\n",
       "    </tr>\n",
       "    <tr>\n",
       "      <th>75%</th>\n",
       "      <td>921.000000</td>\n",
       "      <td>7.000000</td>\n",
       "    </tr>\n",
       "    <tr>\n",
       "      <th>max</th>\n",
       "      <td>921.000000</td>\n",
       "      <td>10.000000</td>\n",
       "    </tr>\n",
       "  </tbody>\n",
       "</table>\n",
       "</div>"
      ],
      "text/plain": [
       "        program_id    nps_score\n",
       "count  1290.000000  1289.000000\n",
       "mean    787.279070     4.627618\n",
       "std     185.266335     3.018995\n",
       "min     121.000000     0.000000\n",
       "25%     621.000000     2.000000\n",
       "50%     921.000000     4.000000\n",
       "75%     921.000000     7.000000\n",
       "max     921.000000    10.000000"
      ]
     },
     "execution_count": 5,
     "metadata": {},
     "output_type": "execute_result"
    }
   ],
   "source": [
    "# checking overall numerical stats\n",
    "results_df.describe()"
   ]
  },
  {
   "cell_type": "code",
   "execution_count": 6,
   "id": "74acc0bc",
   "metadata": {},
   "outputs": [
    {
     "data": {
      "text/plain": [
       "C2    346\n",
       "E     330\n",
       "D     322\n",
       "F     139\n",
       "C1    136\n",
       "G      12\n",
       "H       5\n",
       "Name: career_grade, dtype: int64"
      ]
     },
     "execution_count": 6,
     "metadata": {},
     "output_type": "execute_result"
    }
   ],
   "source": [
    "# looking at number of participants in different career grades\n",
    "results_df.career_grade.value_counts(dropna=False)"
   ]
  },
  {
   "cell_type": "code",
   "execution_count": 7,
   "id": "8ba03f68",
   "metadata": {},
   "outputs": [
    {
     "data": {
      "text/plain": [
       "Ready in 1 year           300\n",
       "Ready now                 295\n",
       "Aspire to move            288\n",
       "Performing to standard    253\n",
       "Coach                     154\n",
       "Name: talent_review_status, dtype: int64"
      ]
     },
     "execution_count": 7,
     "metadata": {},
     "output_type": "execute_result"
    }
   ],
   "source": [
    "# looking at number of participants in all programs and how they determine their \"talent review status\"\n",
    "results_df.talent_review_status.value_counts(dropna=False)"
   ]
  },
  {
   "cell_type": "code",
   "execution_count": 8,
   "id": "9b8f01fa",
   "metadata": {},
   "outputs": [
    {
     "data": {
      "text/plain": [
       "iManage                 801\n",
       "iLead                   349\n",
       "Lead to Succeed         105\n",
       "Mck Asian Leadership     22\n",
       "McK Black Leadership     13\n",
       "Name: program_name, dtype: int64"
      ]
     },
     "execution_count": 8,
     "metadata": {},
     "output_type": "execute_result"
    }
   ],
   "source": [
    "# Count of Participants in each program \n",
    "participants_per_program = results_df.program_name.value_counts(dropna=False)\n",
    "participants_per_program"
   ]
  },
  {
   "cell_type": "code",
   "execution_count": 9,
   "id": "0c1e426e",
   "metadata": {
    "scrolled": true
   },
   "outputs": [
    {
     "data": {
      "text/plain": [
       "<AxesSubplot:>"
      ]
     },
     "execution_count": 9,
     "metadata": {},
     "output_type": "execute_result"
    },
    {
     "data": {
      "image/png": "[encoded data removed]",
      "text/plain": [
       "<Figure size 432x288 with 1 Axes>"
      ]
     },
     "metadata": {
      "needs_background": "light"
     },
     "output_type": "display_data"
    }
   ],
   "source": [
    "# bar plot of participants per program\n",
    "participants_per_program.plot.bar()"
   ]
  },
  {
   "cell_type": "markdown",
   "id": "d123fc74",
   "metadata": {},
   "source": [
    "### NPS Scores Across Programs\n",
    "\n",
    "highest avg: McK Black Leadership: 8.3, Mck Askian Leadership: 7.6\n"
   ]
  },
  {
   "cell_type": "code",
   "execution_count": 10,
   "id": "bef06fca",
   "metadata": {
    "scrolled": true
   },
   "outputs": [
    {
     "data": {
      "text/html": [
       "<div>\n",
       "<style scoped>\n",
       "    .dataframe tbody tr th:only-of-type {\n",
       "        vertical-align: middle;\n",
       "    }\n",
       "\n",
       "    .dataframe tbody tr th {\n",
       "        vertical-align: top;\n",
       "    }\n",
       "\n",
       "    .dataframe thead th {\n",
       "        text-align: right;\n",
       "    }\n",
       "</style>\n",
       "<table border=\"1\" class=\"dataframe\">\n",
       "  <thead>\n",
       "    <tr style=\"text-align: right;\">\n",
       "      <th></th>\n",
       "      <th>count</th>\n",
       "      <th>mean</th>\n",
       "      <th>std</th>\n",
       "      <th>min</th>\n",
       "      <th>25%</th>\n",
       "      <th>50%</th>\n",
       "      <th>75%</th>\n",
       "      <th>max</th>\n",
       "    </tr>\n",
       "    <tr>\n",
       "      <th>program_name</th>\n",
       "      <th></th>\n",
       "      <th></th>\n",
       "      <th></th>\n",
       "      <th></th>\n",
       "      <th></th>\n",
       "      <th></th>\n",
       "      <th></th>\n",
       "      <th></th>\n",
       "    </tr>\n",
       "  </thead>\n",
       "  <tbody>\n",
       "    <tr>\n",
       "      <th>Lead to Succeed</th>\n",
       "      <td>105.0</td>\n",
       "      <td>2.457143</td>\n",
       "      <td>1.759745</td>\n",
       "      <td>0.0</td>\n",
       "      <td>1.0</td>\n",
       "      <td>2.0</td>\n",
       "      <td>4.0</td>\n",
       "      <td>8.0</td>\n",
       "    </tr>\n",
       "    <tr>\n",
       "      <th>McK Black Leadership</th>\n",
       "      <td>13.0</td>\n",
       "      <td>8.384615</td>\n",
       "      <td>1.938146</td>\n",
       "      <td>5.0</td>\n",
       "      <td>7.0</td>\n",
       "      <td>9.0</td>\n",
       "      <td>10.0</td>\n",
       "      <td>10.0</td>\n",
       "    </tr>\n",
       "    <tr>\n",
       "      <th>Mck Asian Leadership</th>\n",
       "      <td>22.0</td>\n",
       "      <td>7.636364</td>\n",
       "      <td>1.865615</td>\n",
       "      <td>5.0</td>\n",
       "      <td>6.0</td>\n",
       "      <td>8.0</td>\n",
       "      <td>9.0</td>\n",
       "      <td>10.0</td>\n",
       "    </tr>\n",
       "    <tr>\n",
       "      <th>iLead</th>\n",
       "      <td>349.0</td>\n",
       "      <td>5.446991</td>\n",
       "      <td>2.753404</td>\n",
       "      <td>0.0</td>\n",
       "      <td>3.0</td>\n",
       "      <td>5.0</td>\n",
       "      <td>8.0</td>\n",
       "      <td>10.0</td>\n",
       "    </tr>\n",
       "    <tr>\n",
       "      <th>iManage</th>\n",
       "      <td>800.0</td>\n",
       "      <td>4.411250</td>\n",
       "      <td>3.066166</td>\n",
       "      <td>0.0</td>\n",
       "      <td>2.0</td>\n",
       "      <td>4.0</td>\n",
       "      <td>7.0</td>\n",
       "      <td>10.0</td>\n",
       "    </tr>\n",
       "  </tbody>\n",
       "</table>\n",
       "</div>"
      ],
      "text/plain": [
       "                      count      mean       std  min  25%  50%   75%   max\n",
       "program_name                                                              \n",
       "Lead to Succeed       105.0  2.457143  1.759745  0.0  1.0  2.0   4.0   8.0\n",
       "McK Black Leadership   13.0  8.384615  1.938146  5.0  7.0  9.0  10.0  10.0\n",
       "Mck Asian Leadership   22.0  7.636364  1.865615  5.0  6.0  8.0   9.0  10.0\n",
       "iLead                 349.0  5.446991  2.753404  0.0  3.0  5.0   8.0  10.0\n",
       "iManage               800.0  4.411250  3.066166  0.0  2.0  4.0   7.0  10.0"
      ]
     },
     "execution_count": 10,
     "metadata": {},
     "output_type": "execute_result"
    }
   ],
   "source": [
    "# Average nps_score per program\n",
    "nps_stats_by_program_table = results_df.groupby('program_name')['nps_score'].describe()\n",
    "nps_stats_by_program_table"
   ]
  },
  {
   "cell_type": "code",
   "execution_count": 11,
   "id": "7395f5f6",
   "metadata": {},
   "outputs": [
    {
     "data": {
      "text/plain": [
       "<AxesSubplot:>"
      ]
     },
     "execution_count": 11,
     "metadata": {},
     "output_type": "execute_result"
    },
    {
     "data": {
      "image/png": "[encoded data removed]",
      "text/plain": [
       "<Figure size 432x288 with 1 Axes>"
      ]
     },
     "metadata": {
      "needs_background": "light"
     },
     "output_type": "display_data"
    }
   ],
   "source": [
    "# Boxplot nps score per program\n",
    "nps_stats_by_program_graph = results_df.groupby('program_name')\n",
    "nps_stats_by_program_graph.boxplot(subplots=False, column='nps_score', rot=90)\n"
   ]
  },
  {
   "cell_type": "code",
   "execution_count": 12,
   "id": "b52ea626",
   "metadata": {},
   "outputs": [],
   "source": [
    "# Count of talent review status by program\n",
    "talent_review_by_program = results_df.groupby(['program_name', 'talent_review_status']).count()\n",
    "talent_review_by_program = talent_review_by_program.reset_index(level=[0, 1])"
   ]
  },
  {
   "cell_type": "code",
   "execution_count": 13,
   "id": "8d5e19ca",
   "metadata": {},
   "outputs": [
    {
     "data": {
      "text/html": [
       "<div>\n",
       "<style scoped>\n",
       "    .dataframe tbody tr th:only-of-type {\n",
       "        vertical-align: middle;\n",
       "    }\n",
       "\n",
       "    .dataframe tbody tr th {\n",
       "        vertical-align: top;\n",
       "    }\n",
       "\n",
       "    .dataframe thead th {\n",
       "        text-align: right;\n",
       "    }\n",
       "</style>\n",
       "<table border=\"1\" class=\"dataframe\">\n",
       "  <thead>\n",
       "    <tr style=\"text-align: right;\">\n",
       "      <th></th>\n",
       "      <th>program_name</th>\n",
       "      <th>talent_review_status</th>\n",
       "      <th>program_id</th>\n",
       "    </tr>\n",
       "  </thead>\n",
       "  <tbody>\n",
       "    <tr>\n",
       "      <th>0</th>\n",
       "      <td>Lead to Succeed</td>\n",
       "      <td>Aspire to move</td>\n",
       "      <td>33</td>\n",
       "    </tr>\n",
       "    <tr>\n",
       "      <th>1</th>\n",
       "      <td>Lead to Succeed</td>\n",
       "      <td>Performing to standard</td>\n",
       "      <td>11</td>\n",
       "    </tr>\n",
       "    <tr>\n",
       "      <th>2</th>\n",
       "      <td>Lead to Succeed</td>\n",
       "      <td>Ready in 1 year</td>\n",
       "      <td>29</td>\n",
       "    </tr>\n",
       "    <tr>\n",
       "      <th>3</th>\n",
       "      <td>Lead to Succeed</td>\n",
       "      <td>Ready now</td>\n",
       "      <td>32</td>\n",
       "    </tr>\n",
       "    <tr>\n",
       "      <th>4</th>\n",
       "      <td>McK Black Leadership</td>\n",
       "      <td>Aspire to move</td>\n",
       "      <td>3</td>\n",
       "    </tr>\n",
       "  </tbody>\n",
       "</table>\n",
       "</div>"
      ],
      "text/plain": [
       "           program_name    talent_review_status  program_id\n",
       "0       Lead to Succeed          Aspire to move          33\n",
       "1       Lead to Succeed  Performing to standard          11\n",
       "2       Lead to Succeed         Ready in 1 year          29\n",
       "3       Lead to Succeed               Ready now          32\n",
       "4  McK Black Leadership          Aspire to move           3"
      ]
     },
     "execution_count": 13,
     "metadata": {},
     "output_type": "execute_result"
    }
   ],
   "source": [
    "talent_review_by_program = talent_review_by_program[['program_name', 'talent_review_status', 'program_id']]\n",
    "talent_review_by_program.head()"
   ]
  },
  {
   "cell_type": "code",
   "execution_count": 37,
   "id": "22cddf93",
   "metadata": {},
   "outputs": [],
   "source": [
    "talent_review_by_program['percentage'] = 0.0\n",
    "\n",
    "# iManage                 801\n",
    "# iLead                   349\n",
    "# Lead to Succeed         105\n",
    "# Mck Asian Leadership     22\n",
    "# McK Black Leadership     13"
   ]
  },
  {
   "cell_type": "code",
   "execution_count": 49,
   "id": "94c1cb0f",
   "metadata": {},
   "outputs": [],
   "source": [
    "# Include percentage column\n",
    "# for index, row in df.iterrows():\n",
    "#         print index\n",
    "#         df['A-B']=df['A']-df['B']\n",
    "\n",
    "for i, row in talent_review_by_program.iterrows():\n",
    "    if row['program_name'] == 'iManage':\n",
    "        percentage = (row['program_id']/801)*100\n",
    "        talent_review_by_program.at[i,'percentage'] = percentage\n",
    "    if row['program_name'] == 'iLead':\n",
    "        percentage = (row['program_id']/349)*100\n",
    "        talent_review_by_program.at[i,'percentage'] = percentage\n",
    "    if row['program_name'] == 'Lead to Succeed':\n",
    "        percentage = (row['program_id']/105)*100\n",
    "        talent_review_by_program.at[i,'percentage'] = percentage\n",
    "    if row['program_name'] == 'Mck Asian Leadership':\n",
    "        percentage = (row['program_id']/22)*100\n",
    "        talent_review_by_program.at[i,'percentage'] = percentage\n",
    "    if row['program_name'] == 'McK Black Leadership':\n",
    "        percentage = (row['program_id']/13)*100\n",
    "        talent_review_by_program.at[i,'percentage'] = percentage\n",
    "    else:\n",
    "        pass"
   ]
  },
  {
   "cell_type": "code",
   "execution_count": 50,
   "id": "7560cc93",
   "metadata": {},
   "outputs": [],
   "source": [
    "talent_review_by_program['percentage'] = talent_review_by_program['percentage'].round()"
   ]
  },
  {
   "cell_type": "code",
   "execution_count": 51,
   "id": "5f790fe4",
   "metadata": {},
   "outputs": [
    {
     "data": {
      "text/html": [
       "<div>\n",
       "<style scoped>\n",
       "    .dataframe tbody tr th:only-of-type {\n",
       "        vertical-align: middle;\n",
       "    }\n",
       "\n",
       "    .dataframe tbody tr th {\n",
       "        vertical-align: top;\n",
       "    }\n",
       "\n",
       "    .dataframe thead th {\n",
       "        text-align: right;\n",
       "    }\n",
       "</style>\n",
       "<table border=\"1\" class=\"dataframe\">\n",
       "  <thead>\n",
       "    <tr style=\"text-align: right;\">\n",
       "      <th></th>\n",
       "      <th>program_name</th>\n",
       "      <th>talent_review_status</th>\n",
       "      <th>program_id</th>\n",
       "      <th>percentage</th>\n",
       "    </tr>\n",
       "  </thead>\n",
       "  <tbody>\n",
       "    <tr>\n",
       "      <th>0</th>\n",
       "      <td>Lead to Succeed</td>\n",
       "      <td>Aspire to move</td>\n",
       "      <td>33</td>\n",
       "      <td>31.0</td>\n",
       "    </tr>\n",
       "    <tr>\n",
       "      <th>1</th>\n",
       "      <td>Lead to Succeed</td>\n",
       "      <td>Performing to standard</td>\n",
       "      <td>11</td>\n",
       "      <td>10.0</td>\n",
       "    </tr>\n",
       "    <tr>\n",
       "      <th>2</th>\n",
       "      <td>Lead to Succeed</td>\n",
       "      <td>Ready in 1 year</td>\n",
       "      <td>29</td>\n",
       "      <td>28.0</td>\n",
       "    </tr>\n",
       "    <tr>\n",
       "      <th>3</th>\n",
       "      <td>Lead to Succeed</td>\n",
       "      <td>Ready now</td>\n",
       "      <td>32</td>\n",
       "      <td>30.0</td>\n",
       "    </tr>\n",
       "    <tr>\n",
       "      <th>4</th>\n",
       "      <td>McK Black Leadership</td>\n",
       "      <td>Aspire to move</td>\n",
       "      <td>3</td>\n",
       "      <td>23.0</td>\n",
       "    </tr>\n",
       "  </tbody>\n",
       "</table>\n",
       "</div>"
      ],
      "text/plain": [
       "           program_name    talent_review_status  program_id  percentage\n",
       "0       Lead to Succeed          Aspire to move          33        31.0\n",
       "1       Lead to Succeed  Performing to standard          11        10.0\n",
       "2       Lead to Succeed         Ready in 1 year          29        28.0\n",
       "3       Lead to Succeed               Ready now          32        30.0\n",
       "4  McK Black Leadership          Aspire to move           3        23.0"
      ]
     },
     "execution_count": 51,
     "metadata": {},
     "output_type": "execute_result"
    }
   ],
   "source": [
    "talent_review_by_program.head()"
   ]
  },
  {
   "cell_type": "code",
   "execution_count": 48,
   "id": "e71ac0c8",
   "metadata": {},
   "outputs": [
    {
     "data": {
      "text/plain": [
       "<seaborn.axisgrid.FacetGrid at 0x7f8a06347350>"
      ]
     },
     "execution_count": 48,
     "metadata": {},
     "output_type": "execute_result"
    },
    {
     "data": {
      "image/png": "[encoded data removed]",
      "text/plain": [
       "<Figure size 1800x360 with 5 Axes>"
      ]
     },
     "metadata": {},
     "output_type": "display_data"
    }
   ],
   "source": [
    "# graph of talent review status percentages for each graph\n",
    "sns.set_style('white')\n",
    "\n",
    "\n",
    "ax = sns.catplot(x='talent_review_status', y='percentage', hue='talent_review_status',\n",
    "                     col='program_name', data=talent_review_by_program, kind='bar')\n",
    "ax.set_xticklabels(rotation=30)\n",
    "\n"
   ]
  },
  {
   "cell_type": "code",
   "execution_count": 60,
   "id": "e8acc97c",
   "metadata": {},
   "outputs": [
    {
     "data": {
      "text/html": [
       "<div>\n",
       "<style scoped>\n",
       "    .dataframe tbody tr th:only-of-type {\n",
       "        vertical-align: middle;\n",
       "    }\n",
       "\n",
       "    .dataframe tbody tr th {\n",
       "        vertical-align: top;\n",
       "    }\n",
       "\n",
       "    .dataframe thead th {\n",
       "        text-align: right;\n",
       "    }\n",
       "</style>\n",
       "<table border=\"1\" class=\"dataframe\">\n",
       "  <thead>\n",
       "    <tr style=\"text-align: right;\">\n",
       "      <th></th>\n",
       "      <th>program_name</th>\n",
       "      <th>talent_review_status</th>\n",
       "      <th>business_unit_corporate_function</th>\n",
       "      <th>percentage</th>\n",
       "    </tr>\n",
       "  </thead>\n",
       "  <tbody>\n",
       "    <tr>\n",
       "      <th>0</th>\n",
       "      <td>Lead to Succeed</td>\n",
       "      <td>32</td>\n",
       "      <td>Assessment &amp; Qualifications</td>\n",
       "      <td>0.0</td>\n",
       "    </tr>\n",
       "    <tr>\n",
       "      <th>1</th>\n",
       "      <td>Lead to Succeed</td>\n",
       "      <td>1</td>\n",
       "      <td>CPO/DTC</td>\n",
       "      <td>0.0</td>\n",
       "    </tr>\n",
       "    <tr>\n",
       "      <th>2</th>\n",
       "      <td>Lead to Succeed</td>\n",
       "      <td>7</td>\n",
       "      <td>Corporate Marketing &amp; Comms</td>\n",
       "      <td>0.0</td>\n",
       "    </tr>\n",
       "    <tr>\n",
       "      <th>3</th>\n",
       "      <td>Lead to Succeed</td>\n",
       "      <td>18</td>\n",
       "      <td>English Language Learning</td>\n",
       "      <td>0.0</td>\n",
       "    </tr>\n",
       "    <tr>\n",
       "      <th>4</th>\n",
       "      <td>Lead to Succeed</td>\n",
       "      <td>6</td>\n",
       "      <td>Finance</td>\n",
       "      <td>0.0</td>\n",
       "    </tr>\n",
       "  </tbody>\n",
       "</table>\n",
       "</div>"
      ],
      "text/plain": [
       "      program_name  talent_review_status business_unit_corporate_function  \\\n",
       "0  Lead to Succeed                    32      Assessment & Qualifications   \n",
       "1  Lead to Succeed                     1                          CPO/DTC   \n",
       "2  Lead to Succeed                     7      Corporate Marketing & Comms   \n",
       "3  Lead to Succeed                    18        English Language Learning   \n",
       "4  Lead to Succeed                     6                          Finance   \n",
       "\n",
       "   percentage  \n",
       "0         0.0  \n",
       "1         0.0  \n",
       "2         0.0  \n",
       "3         0.0  \n",
       "4         0.0  "
      ]
     },
     "execution_count": 60,
     "metadata": {},
     "output_type": "execute_result"
    }
   ],
   "source": [
    "# Count of business_unit_corporate_function status by program\n",
    "corp_funct_by_prgm_count = results_df.groupby(['program_name', 'business_unit_corporate_function']).count()\n",
    "corp_funct_by_prgm_count = corp_funct_by_prgm_count.reset_index(level=[0, 1])\n",
    "corp_funct_by_prgm_count = corp_funct_by_prgm_count[['program_name', 'talent_review_status', 'business_unit_corporate_function']]\n",
    "corp_funct_by_prgm_count['percentage'] = 0.0\n",
    "corp_funct_by_prgm_count.head()\n"
   ]
  },
  {
   "cell_type": "code",
   "execution_count": 62,
   "id": "e5051227",
   "metadata": {},
   "outputs": [],
   "source": [
    "for i, row in corp_funct_by_prgm_count.iterrows():\n",
    "    if row['program_name'] == 'iManage':\n",
    "        percentage = (row['talent_review_status']/801)*100\n",
    "        corp_funct_by_prgm_count.at[i,'percentage'] = percentage\n",
    "    if row['program_name'] == 'iLead':\n",
    "        percentage = (row['talent_review_status']/349)*100\n",
    "        corp_funct_by_prgm_count.at[i,'percentage'] = percentage\n",
    "    if row['program_name'] == 'Lead to Succeed':\n",
    "        percentage = (row['talent_review_status']/105)*100\n",
    "        corp_funct_by_prgm_count.at[i,'percentage'] = percentage\n",
    "    if row['program_name'] == 'Mck Asian Leadership':\n",
    "        percentage = (row['talent_review_status']/22)*100\n",
    "        corp_funct_by_prgm_count.at[i,'percentage'] = percentage\n",
    "    if row['program_name'] == 'McK Black Leadership':\n",
    "        percentage = (row['talent_review_status']/13)*100\n",
    "        corp_funct_by_prgm_count.at[i,'percentage'] = percentage\n",
    "    else:\n",
    "        pass"
   ]
  },
  {
   "cell_type": "code",
   "execution_count": 71,
   "id": "d764b381",
   "metadata": {},
   "outputs": [
    {
     "data": {
      "text/html": [
       "<div>\n",
       "<style scoped>\n",
       "    .dataframe tbody tr th:only-of-type {\n",
       "        vertical-align: middle;\n",
       "    }\n",
       "\n",
       "    .dataframe tbody tr th {\n",
       "        vertical-align: top;\n",
       "    }\n",
       "\n",
       "    .dataframe thead th {\n",
       "        text-align: right;\n",
       "    }\n",
       "</style>\n",
       "<table border=\"1\" class=\"dataframe\">\n",
       "  <thead>\n",
       "    <tr style=\"text-align: right;\">\n",
       "      <th></th>\n",
       "      <th>program_name</th>\n",
       "      <th>talent_review_status</th>\n",
       "      <th>business_unit_corporate_function</th>\n",
       "      <th>percentage</th>\n",
       "    </tr>\n",
       "  </thead>\n",
       "  <tbody>\n",
       "    <tr>\n",
       "      <th>0</th>\n",
       "      <td>Lead to Succeed</td>\n",
       "      <td>32</td>\n",
       "      <td>Assessment &amp; Qualifications</td>\n",
       "      <td>30.476190</td>\n",
       "    </tr>\n",
       "    <tr>\n",
       "      <th>1</th>\n",
       "      <td>Lead to Succeed</td>\n",
       "      <td>1</td>\n",
       "      <td>CPO/DTC</td>\n",
       "      <td>0.952381</td>\n",
       "    </tr>\n",
       "    <tr>\n",
       "      <th>2</th>\n",
       "      <td>Lead to Succeed</td>\n",
       "      <td>7</td>\n",
       "      <td>Corporate Marketing &amp; Comms</td>\n",
       "      <td>6.666667</td>\n",
       "    </tr>\n",
       "    <tr>\n",
       "      <th>3</th>\n",
       "      <td>Lead to Succeed</td>\n",
       "      <td>18</td>\n",
       "      <td>English Language Learning</td>\n",
       "      <td>17.142857</td>\n",
       "    </tr>\n",
       "    <tr>\n",
       "      <th>4</th>\n",
       "      <td>Lead to Succeed</td>\n",
       "      <td>6</td>\n",
       "      <td>Finance</td>\n",
       "      <td>5.714286</td>\n",
       "    </tr>\n",
       "  </tbody>\n",
       "</table>\n",
       "</div>"
      ],
      "text/plain": [
       "      program_name  talent_review_status business_unit_corporate_function  \\\n",
       "0  Lead to Succeed                    32      Assessment & Qualifications   \n",
       "1  Lead to Succeed                     1                          CPO/DTC   \n",
       "2  Lead to Succeed                     7      Corporate Marketing & Comms   \n",
       "3  Lead to Succeed                    18        English Language Learning   \n",
       "4  Lead to Succeed                     6                          Finance   \n",
       "\n",
       "   percentage  \n",
       "0   30.476190  \n",
       "1    0.952381  \n",
       "2    6.666667  \n",
       "3   17.142857  \n",
       "4    5.714286  "
      ]
     },
     "execution_count": 71,
     "metadata": {},
     "output_type": "execute_result"
    }
   ],
   "source": [
    "corp_funct_by_prgm_count.head()"
   ]
  },
  {
   "cell_type": "code",
   "execution_count": 84,
   "id": "1a961d70",
   "metadata": {},
   "outputs": [
    {
     "data": {
      "image/png": "[encoded data removed]",
      "text/plain": [
       "<Figure size 1800x360 with 5 Axes>"
      ]
     },
     "metadata": {},
     "output_type": "display_data"
    }
   ],
   "source": [
    "# graph of talent review status percentages for each graph\n",
    "# show percentage by ethnicity? gender?\n",
    "\n",
    "sns.set_style('white')\n",
    "\n",
    "ax = sns.catplot(x='business_unit_corporate_function', y='percentage', hue='business_unit_corporate_function',\n",
    "                     col='program_name', data=corp_funct_by_prgm_count, kind='bar')\n",
    "ax.set_xticklabels(rotation=90)\n",
    "\n",
    "plt.show()"
   ]
  },
  {
   "cell_type": "markdown",
   "id": "2a535a41",
   "metadata": {},
   "source": [
    "# EDA FOR Imanage"
   ]
  },
  {
   "cell_type": "code",
   "execution_count": null,
   "id": "a1cc090c",
   "metadata": {},
   "outputs": [],
   "source": []
  },
  {
   "cell_type": "code",
   "execution_count": null,
   "id": "ddccb494",
   "metadata": {},
   "outputs": [],
   "source": [
    "results_df.head()"
   ]
  },
  {
   "cell_type": "code",
   "execution_count": null,
   "id": "caebd8e9",
   "metadata": {},
   "outputs": [],
   "source": []
  }
 ],
 "metadata": {
  "kernelspec": {
   "display_name": "mlenv",
   "language": "python",
   "name": "mlenv"
  },
  "language_info": {
   "codemirror_mode": {
    "name": "ipython",
    "version": 3
   },
   "file_extension": ".py",
   "mimetype": "text/x-python",
   "name": "python",
   "nbconvert_exporter": "python",
   "pygments_lexer": "ipython3",
   "version": "3.7.10"
  }
 },
 "nbformat": 4,
 "nbformat_minor": 5
}
